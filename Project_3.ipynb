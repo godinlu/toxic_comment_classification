{
 "cells": [
  {
   "cell_type": "markdown",
   "id": "d6513e49-b1cc-4604-b563-cf8b1809fc6a",
   "metadata": {},
   "source": [
    "<table>\n",
    "<tr>\n",
    "<td width=15%><img src=\"../../img/UGA.png\"></img></td>\n",
    "<td><center><h1>Project n°3</h1></center></td>\n",
    "<td width=15%><a href=\"https://team.inria.fr/tripop/team-members/\" style=\"font-size: 16px; font-weight: bold\">Florian Vincent</a> </td>\n",
    "</tr>\n",
    "</table>"
   ]
  },
  {
   "cell_type": "code",
   "execution_count": 1,
   "id": "20647865-8316-4ee0-a021-ed961be14b4c",
   "metadata": {},
   "outputs": [
    {
     "ename": "ModuleNotFoundError",
     "evalue": "No module named 'matplotlib'",
     "output_type": "error",
     "traceback": [
      "\u001b[1;31m---------------------------------------------------------------------------\u001b[0m",
      "\u001b[1;31mModuleNotFoundError\u001b[0m                       Traceback (most recent call last)",
      "\u001b[1;32mc:\\Users\\lucvi\\OneDrive\\Bureau\\SSD_M1\\S1\\python\\toxic_comment_classification\\Project_3.ipynb Cell 2\u001b[0m line \u001b[0;36m3\n\u001b[0;32m      <a href='vscode-notebook-cell:/c%3A/Users/lucvi/OneDrive/Bureau/SSD_M1/S1/python/toxic_comment_classification/Project_3.ipynb#W1sZmlsZQ%3D%3D?line=0'>1</a>\u001b[0m \u001b[39mimport\u001b[39;00m \u001b[39mnumpy\u001b[39;00m \u001b[39mas\u001b[39;00m \u001b[39mnp\u001b[39;00m\n\u001b[0;32m      <a href='vscode-notebook-cell:/c%3A/Users/lucvi/OneDrive/Bureau/SSD_M1/S1/python/toxic_comment_classification/Project_3.ipynb#W1sZmlsZQ%3D%3D?line=1'>2</a>\u001b[0m \u001b[39mimport\u001b[39;00m \u001b[39mpandas\u001b[39;00m \u001b[39mas\u001b[39;00m \u001b[39mpd\u001b[39;00m\n\u001b[1;32m----> <a href='vscode-notebook-cell:/c%3A/Users/lucvi/OneDrive/Bureau/SSD_M1/S1/python/toxic_comment_classification/Project_3.ipynb#W1sZmlsZQ%3D%3D?line=2'>3</a>\u001b[0m \u001b[39mimport\u001b[39;00m \u001b[39mmatplotlib\u001b[39;00m\u001b[39m.\u001b[39;00m\u001b[39mpyplot\u001b[39;00m \u001b[39mas\u001b[39;00m \u001b[39mplt\u001b[39;00m\n\u001b[0;32m      <a href='vscode-notebook-cell:/c%3A/Users/lucvi/OneDrive/Bureau/SSD_M1/S1/python/toxic_comment_classification/Project_3.ipynb#W1sZmlsZQ%3D%3D?line=3'>4</a>\u001b[0m \u001b[39mimport\u001b[39;00m \u001b[39mseaborn\u001b[39;00m \u001b[39mas\u001b[39;00m \u001b[39msns\u001b[39;00m\n\u001b[0;32m      <a href='vscode-notebook-cell:/c%3A/Users/lucvi/OneDrive/Bureau/SSD_M1/S1/python/toxic_comment_classification/Project_3.ipynb#W1sZmlsZQ%3D%3D?line=4'>5</a>\u001b[0m \u001b[39mfrom\u001b[39;00m \u001b[39msklearn\u001b[39;00m\u001b[39m.\u001b[39;00m\u001b[39mfeature_extraction\u001b[39;00m\u001b[39m.\u001b[39;00m\u001b[39mtext\u001b[39;00m \u001b[39mimport\u001b[39;00m CountVectorizer\n",
      "\u001b[1;31mModuleNotFoundError\u001b[0m: No module named 'matplotlib'"
     ]
    }
   ],
   "source": [
    "import numpy as np\n",
    "import pandas as pd\n",
    "import matplotlib.pyplot as plt\n",
    "import seaborn as sns\n",
    "from sklearn.feature_extraction.text import CountVectorizer"
   ]
  },
  {
   "cell_type": "code",
   "execution_count": 4,
   "id": "6901f496-9a78-4b60-a931-303320d3c229",
   "metadata": {},
   "outputs": [],
   "source": [
    "%load_ext autoreload\n",
    "%autoreload 2"
   ]
  },
  {
   "cell_type": "markdown",
   "id": "aca73c79-e5cb-49cf-bafa-6e2496d4e1e5",
   "metadata": {},
   "source": [
    "# Learning text classification\n",
    "\n",
    "This project is heavily inspired from [Jigsaw's *Toxic Comments Classification* challenge](https://www.kaggle.com/competitions/jigsaw-toxic-comment-classification-challenge/overview) on kaggle.\n",
    "To avoid copy-pastings of foreign code, it will guide you towards specific tools to test and use.\n",
    "\n",
    "## Overview of the project\n",
    "\n",
    "Take a look at the *zip*ed csv data files by unzipping them (`for name in $(ls *.zip); do unzip $name; done;`).\n",
    "\n",
    "Every comment in the train set is classified with a label in `{\"toxic\", \"severe_toxic\", \"obscene\", \"threat\", \"insult\", \"identity hate\"}`.\n",
    "You will need to train multiple kind of models to identify those comments, and you will test them against the test dataset."
   ]
  },
  {
   "cell_type": "markdown",
   "id": "160d63c9-9390-4fb0-9ff8-f1b332ece4f0",
   "metadata": {},
   "source": [
    "## Study the data\n",
    "\n",
    "Representing textual data in an algebraic format (i.e. vectors & matrices) is not easy, but fortunately it has been quickly studied earlier in the lectures.\n",
    "\n",
    "**Implement a word-vectorizer relying on simple counting for the textual data**"
   ]
  },
  {
   "cell_type": "code",
   "execution_count": 1,
   "id": "281289d0-29d7-41a9-999e-9b168e200de6",
   "metadata": {},
   "outputs": [],
   "source": [
    "## Write your code here"
   ]
  },
  {
   "cell_type": "markdown",
   "id": "0aa7031a-2447-4d0e-995e-29de307b9fb8",
   "metadata": {},
   "source": [
    "**Implement another vectorizing relying this time on the *tf-idf* metric. Use a pipeline if needed.**"
   ]
  },
  {
   "cell_type": "code",
   "execution_count": 5,
   "id": "54080c85-6342-4465-805f-c6baf8e22232",
   "metadata": {},
   "outputs": [],
   "source": [
    "## Write your code here"
   ]
  },
  {
   "cell_type": "markdown",
   "id": "fb3e9bc7-c068-461c-b6d8-1bf2cf121ac6",
   "metadata": {},
   "source": [
    "One may wish to take a deeper look in the database by using various techniques.\n",
    "\n",
    "**Find a suitable dimension reduction technique to study the structure of the data. Display your findings with visual means (you can use `seaborn`).**"
   ]
  },
  {
   "cell_type": "code",
   "execution_count": 6,
   "id": "bb697da5-2027-47ec-a290-c10f25432edb",
   "metadata": {},
   "outputs": [],
   "source": [
    "## Write your code here"
   ]
  },
  {
   "cell_type": "markdown",
   "id": "81c175ff-cbdf-43b5-8478-475c3dd9901f",
   "metadata": {},
   "source": [
    "## Make classification\n",
    "\n",
    "We will study during this project a small amount of models.\n",
    "\n",
    "### Logistic regression\n",
    "\n",
    "The logistic regression is the most simple and naïve model one can use for classification specifically, but it can provide good insights on the baseline one may wish to achieve with more complex models.\n",
    "\n",
    "**Implement a logistic classifier. Justify every parameter that you choose and how you chose it.**"
   ]
  },
  {
   "cell_type": "code",
   "execution_count": 7,
   "id": "d2021f4e-441d-453d-bd1e-cad64ae96ad2",
   "metadata": {},
   "outputs": [],
   "source": [
    "## Write your code here"
   ]
  },
  {
   "cell_type": "markdown",
   "id": "17830d6a-ccf5-4ccc-af00-f1515517265c",
   "metadata": {},
   "source": [
    "### SVM\n",
    "\n",
    "The support vector machine used to be the SOTA method for many tasks before neural networks became more popular among data scientists.\n",
    "Is has a lot of advantages as compared to logistic regression, as it is a kernel method of which the results are still relatively easy to interpret.\n",
    "\n",
    "**Implement a SVM classifier, justifying your choices of hyper-parameters.**"
   ]
  },
  {
   "cell_type": "code",
   "execution_count": 8,
   "id": "89cdffab-76a2-4052-8ba8-948440cd27de",
   "metadata": {},
   "outputs": [],
   "source": [
    "## Write your code here"
   ]
  },
  {
   "cell_type": "markdown",
   "id": "e0669a6e-aa9f-4e01-b3f4-20f11c897b65",
   "metadata": {},
   "source": [
    "## Other models\n",
    "\n",
    "**Choose a model between the following:**\n",
    "* **K-Nearest Neighbors (*KNN*)**\n",
    "* **Decision Tree**\n",
    "* **Random Forest**\n",
    "\n",
    "**Describe IN YOUR OWN WORDS (plagiarism checks will be made if needed) how the method works, and implement it for the current case, discussing its hyperparameters as well.**"
   ]
  },
  {
   "cell_type": "code",
   "execution_count": 9,
   "id": "6330d721-c113-4f11-a6d4-6a0efe529461",
   "metadata": {},
   "outputs": [],
   "source": [
    "## Write your code here"
   ]
  },
  {
   "cell_type": "markdown",
   "id": "5433f83c-9c90-413f-9832-ad2a7f12e322",
   "metadata": {},
   "source": [
    "## Compare models\n",
    "\n",
    "One must then compare the models on the test set and provide metrics to study it.\n",
    "\n",
    "**Compare previously studied models, with counting *tf* and *tf-idf* as vectorizers, for their best hyperparameters.**"
   ]
  },
  {
   "cell_type": "code",
   "execution_count": 10,
   "id": "2c46f7be-3ce9-4671-8a65-e14fb9990dd9",
   "metadata": {},
   "outputs": [],
   "source": [
    "## Write your code here"
   ]
  },
  {
   "cell_type": "markdown",
   "id": "97ce94cb-6113-4a0a-920d-8de719ea343b",
   "metadata": {},
   "source": [
    "## Use your model\n",
    "\n",
    "**Use the best model to build a Command-Line Interface (*CLI*) that is launched by the command `./cli.py [options]` using the `argsparse` module, and that accepts in stdin (standard input) english sentences and classifies them, displaying the result and interesting metrics if relevant.**"
   ]
  }
 ],
 "metadata": {
  "kernelspec": {
   "display_name": "Python 3 (ipykernel)",
   "language": "python",
   "name": "python3"
  },
  "language_info": {
   "codemirror_mode": {
    "name": "ipython",
    "version": 3
   },
   "file_extension": ".py",
   "mimetype": "text/x-python",
   "name": "python",
   "nbconvert_exporter": "python",
   "pygments_lexer": "ipython3",
   "version": "3.9.13"
  }
 },
 "nbformat": 4,
 "nbformat_minor": 5
}
